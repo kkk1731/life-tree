{
 "cells": [
  {
   "cell_type": "code",
   "execution_count": 1,
   "metadata": {
    "scrolled": false
   },
   "outputs": [],
   "source": [
    "# -*- coding: utf-8 -*-\n",
    "\"\"\"\n",
    "Created on Mon Oct 26 14:09:13 2020\n",
    "\n",
    "E:各パラメタの配列(2次元)\n",
    "F:現在の配列全体(3次元)\n",
    "G:次の配列全体(3次元)\n",
    "\n",
    "x:木の大きさ\n",
    "theta:自分と周りの木の大きさの和の行列\n",
    "\"\"\"\n",
    "\n",
    "from __future__ import print_function\n",
    "import os\n",
    "import sys\n",
    "import numpy as np\n",
    "from scipy import signal\n",
    "import cv2\n",
    "import matplotlib.pyplot as plt\n",
    "import random\n",
    "import csv\n",
    "import pprint\n",
    "\n",
    "para_num = 3"
   ]
  },
  {
   "cell_type": "code",
   "execution_count": 2,
   "metadata": {
    "scrolled": false
   },
   "outputs": [],
   "source": [
    "def init_state_sample(width, height):\n",
    "    v = np.zeros(((para_num, width, height)))\n",
    "    v[1:3, :, :]=1.0\n",
    "    \n",
    "    return v"
   ]
  },
  {
   "cell_type": "code",
   "execution_count": 3,
   "metadata": {
    "scrolled": false
   },
   "outputs": [],
   "source": [
    "#入力：2次元各F　出力：2次元ラプラシアン\n",
    "def Laplacian(u, mask):\n",
    "    \n",
    "    u_inflow_from_top = np.roll(a=u, shift=1, axis=0) * mask[0,1]\n",
    "    u_inflow_from_bottom = np.roll(a=u, shift=-1, axis=0) * mask[2,1]\n",
    "    u_inflow_from_left = np.roll(a=u, shift=1, axis=1) * mask[1,0]\n",
    "    u_inflow_from_right = np.roll(a=u, shift=-1, axis=1) * mask[1,2]\n",
    "    u_inflow_from_left_top = np.roll(a=u, shift=(1,1), axis=(0,1)) * mask[0,0]\n",
    "    u_inflow_from_right_top = np.roll(a=u, shift=(1,-1), axis=(0,1)) * mask[0,2]\n",
    "    u_inflow_from_left_bottom = np.roll(a=u, shift=(-1,1), axis=(0,1)) * mask[2,0]\n",
    "    u_inflow_from_right_bottom = np.roll(a=u, shift=(-1,-1), axis=(0,1)) * mask[2,2]\n",
    "    u_outflow = u * mask[1,1]\n",
    "    lap = (u_inflow_from_top + u_inflow_from_bottom\n",
    "           + u_inflow_from_left + u_inflow_from_right\n",
    "           + u_inflow_from_left_top + u_inflow_from_right_top\n",
    "           + u_inflow_from_left_bottom +  u_inflow_from_right_bottom\n",
    "           + u_outflow)\n",
    "    \n",
    "    return lap"
   ]
  },
  {
   "cell_type": "code",
   "execution_count": 4,
   "metadata": {
    "scrolled": false
   },
   "outputs": [],
   "source": [
    "#引数：3次元配列\n",
    "def next_generation_x(F,mask, Dx, killX):\n",
    "\n",
    "    x_theta =  Laplacian(F[0], mask) / 0.01**2#N:自信と周囲1マスのxの和の行列\n",
    "    \n",
    "    \n",
    "    partial_x = Dx * x_theta +  F[0] * F[0] * F[1] *  F[2] - F[0] * killX\n",
    "        \n",
    "    #値が上限超えた場合の処理\n",
    "    #Fx = np.where(Fx < 0, 0, Fx) \n",
    "    #Fx = np.where(Fx > 1, 1, Fx)\n",
    "    return partial_x"
   ]
  },
  {
   "cell_type": "code",
   "execution_count": 5,
   "metadata": {
    "scrolled": false
   },
   "outputs": [],
   "source": [
    "#引数：3次元配列\n",
    "def next_generation_y(F,mask, Dy, feedY):\n",
    "    #mask_num = np.count_nonzero(mask==1)\n",
    "\n",
    "    y_theta =  Laplacian(F[1], mask) / 0.01**2#N:自信と周囲1マスのxの和の行列\n",
    "    \n",
    "    \n",
    "    partial_y = Dy * y_theta - F[0] * F[0] * F[1] *  F[2] + feedY * (1.0-F[1])\n",
    "              \n",
    "    #値が上限超えた場合の処理\n",
    "    #Fy = np.where(Fy < 0, 0, Fy) \n",
    "    #Fy = np.where(Fy > 1, 1, Fy)\n",
    "    return partial_y"
   ]
  },
  {
   "cell_type": "code",
   "execution_count": 6,
   "metadata": {
    "scrolled": false
   },
   "outputs": [],
   "source": [
    "#引数：3次元配列\n",
    "def next_generation_z(F, mask, Dz, feedZ):\n",
    "    #mask_num = np.count_nonzero(mask==1)\n",
    "\n",
    "    z_theta =  Laplacian(F[2], mask) / 0.01**2#N:自信と周囲1マスのxの和の行列\n",
    "    \n",
    "    \n",
    "    partial_z = Dz * z_theta - F[0] * F[0] *  F[1] * F[2] + feedZ * (1.0 - F[2])\n",
    "               \n",
    "    #値が上限超えた場合の処理\n",
    "    #Fx = np.where(Fz < 0, 0, Fz) \n",
    "    #Fx = np.where(Fz > 1, 1, Fz)\n",
    "    return partial_z"
   ]
  },
  {
   "cell_type": "code",
   "execution_count": 7,
   "metadata": {
    "scrolled": false
   },
   "outputs": [],
   "source": [
    "def next_generation(F, mask, Dx ,Dy, Dz, killX, feedY, feedZ):\n",
    "    partial_x = next_generation_x(F,  mask, Dx, killX)\n",
    "    partial_y = next_generation_y(F,  mask, Dy, feedY)\n",
    "    partial_z = next_generation_z(F,  mask, Dz, feedZ)\n",
    "    F[0] += partial_x\n",
    "    F[1] += partial_y\n",
    "    F[2] += partial_z\n",
    "    return F\n"
   ]
  },
  {
   "cell_type": "code",
   "execution_count": 8,
   "metadata": {
    "scrolled": false
   },
   "outputs": [],
   "source": [
    "#引数：2次元\n",
    "def to_image(F, scale=5.0):\n",
    "    #Fを離散化＝イメージごとに分類\n",
    "    #tmp = classify_img(F)\n",
    "    #print(tmp)\n",
    "    #0.0～1.0を0～255に\n",
    "    img = np.array(F*255, dtype=np.uint8)\n",
    "\n",
    "    W = int(F.shape[1]*scale)\n",
    "    H = int(F.shape[0]*scale)\n",
    "    img = cv2.resize(img, (W, H), interpolation=cv2.INTER_NEAREST)\n",
    "    return img"
   ]
  },
  {
   "cell_type": "code",
   "execution_count": 9,
   "metadata": {
    "scrolled": false
   },
   "outputs": [],
   "source": [
    "def show_graph(y):\n",
    "    x = range(len(y))\n",
    "    fig, ax = plt.subplots(1, 1)\n",
    "    ax.set_ylim((-1000, 10000))\n",
    "    line, = ax.plot(x, y, color='blue')\n",
    "    plt.pause(0.01)\n",
    "    # グラフをクリア\n",
    "    line.remove()"
   ]
  },
  {
   "cell_type": "code",
   "execution_count": 10,
   "metadata": {
    "scrolled": true
   },
   "outputs": [],
   "source": [
    "def main():\n",
    "    areaLength=50\n",
    "    switch = 0\n",
    "    ret = 0\n",
    "    wait = 1\n",
    "    t = 0\n",
    "    period = 1\n",
    "    mask_max = np.array([[0,1,0],[1,-4,1],[0,1,0]])\n",
    "    para_flag = 1\n",
    "    \n",
    "    dx = 0.01\n",
    "    Dx = 0.5e-5\n",
    "    Dy = 2e-5\n",
    "    Dz = 2e-5\n",
    "    \n",
    "    \n",
    "    if para_flag == 3:\n",
    "    #ネット\n",
    "        killX = 0.042\n",
    "        feedY = 0.056\n",
    "        feedZ = 0.03\n",
    "    elif para_flag ==2:\n",
    "    #点に収束\n",
    "        killX = 0.059\n",
    "        feedY = 0.055\n",
    "        feedZ = 0.030\n",
    "    \n",
    "    elif para_flag ==1:\n",
    "    #伸びる線\n",
    "        killX = 0.05\n",
    "        feedY = 0.16\n",
    "        feedZ = 0.068\n",
    "    elif para_flag ==5:\n",
    "    #花\n",
    "        killX = 0.032\n",
    "        feedY = 0.025\n",
    "        feedZ = 0.020\n",
    "    elif para_flag==0:\n",
    "    #点・分裂\n",
    "        killX = 0.036\n",
    "        feedY = 0.013\n",
    "        feedZ = 0.022\n",
    "    elif para_flag ==4:\n",
    "    #進む・ばらばら波\n",
    "        killX = 0.015\n",
    "        feedY = 0.005\n",
    "        feedZ = 0.023\n",
    "    elif para_flag ==6:\n",
    "        killX = 0.04\n",
    "        feedY = 0.01\n",
    "        feedZ = 0.01\n",
    "    \n",
    "    SQUARE_SIZE = 6\n",
    "    F = init_state_sample(areaLength, areaLength)\n",
    "    \n",
    "    square_start = areaLength // 2 - SQUARE_SIZE // 2\n",
    "    square_end = areaLength // 2 + SQUARE_SIZE // 2\n",
    "    F[0,square_start:square_end, square_start:square_end] = 0.5\n",
    "    F[1,square_start:square_end, square_start:square_end] = 0.5\n",
    "    F[2,square_start:square_end, square_start:square_end] = 0.5    \n",
    "    \n",
    "    while True:\n",
    "        #描写\n",
    "        img = to_image(F[0], scale=5.0)\n",
    "        cv2.imshow(\"test\", img)\n",
    "      \n",
    "        #period回実行\n",
    "        i = 0\n",
    "        while i < period:\n",
    "            i = i + 1\n",
    "            F = next_generation(F, mask_max, Dx ,Dy, Dz, killX+feedZ, feedY, feedZ)\n",
    "                  \n",
    "        ret = cv2.waitKey(wait)\n",
    "        if ret == ord('r'):\n",
    "            F = init_state_sample(areaLength, areaLength)\n",
    "        if ret == ord('a'):\n",
    "            F = init_state_random(areaLength, areaLength)\n",
    "        if ret == ord('s'):\n",
    "            wait = min(wait*2, 1000)\n",
    "        if ret == ord('f'):\n",
    "            wait = max(wait//2, 10)\n",
    "        if ret == ord('q') or ret == 27:\n",
    "            break\n",
    "\n",
    "    cv2.destroyAllWindows()\n",
    "\n",
    "if __name__ == \"__main__\":\n",
    "    main()"
   ]
  }
 ],
 "metadata": {
  "kernelspec": {
   "display_name": "Python 3",
   "language": "python",
   "name": "python3"
  },
  "language_info": {
   "codemirror_mode": {
    "name": "ipython",
    "version": 3
   },
   "file_extension": ".py",
   "mimetype": "text/x-python",
   "name": "python",
   "nbconvert_exporter": "python",
   "pygments_lexer": "ipython3",
   "version": "3.7.4"
  }
 },
 "nbformat": 4,
 "nbformat_minor": 4
}
